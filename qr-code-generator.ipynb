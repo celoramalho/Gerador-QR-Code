{
 "cells": [
  {
   "cell_type": "code",
   "execution_count": 9,
   "id": "f75c801b",
   "metadata": {},
   "outputs": [],
   "source": [
    "import qrcode\n",
    "import qrcode.image.svg\n",
    "import pandas as pd\n",
    "import numpy as np\n",
    "import re\n",
    "import unicodedata\n",
    "import os\n",
    "from pathlib import Path\n",
    "import json\n",
    "from pprint import pprint\n",
    "from datetime import date, time, datetime"
   ]
  },
  {
   "cell_type": "code",
   "execution_count": 10,
   "id": "620401e6",
   "metadata": {},
   "outputs": [],
   "source": [
    "realpath = os.getcwd()\n",
    "file_path = f'{realpath}/Planilha/Planilha_QR_Code.xlsx'\n",
    "#check if already have a line with the same serialnumber"
   ]
  },
  {
   "cell_type": "code",
   "execution_count": 11,
   "id": "98259280",
   "metadata": {},
   "outputs": [],
   "source": [
    "def clean_text(text):\n",
    "    # Normalize text to decompose accented characters\n",
    "    nfkd_form = unicodedata.normalize('NFKD', text)\n",
    "    # Remove accents by keeping only ASCII characters\n",
    "    text_without_accents = \"\".join([c for c in nfkd_form if not unicodedata.combining(c)])\n",
    "    # Remove special characters, keeping only letters, numbers, and spaces\n",
    "    clean_text = re.sub(r'[^a-zA-Z0-9\\s]', '', text_without_accents)\n",
    "    # Replace spaces with underscores and convert to lowercase\n",
    "    clean_text = clean_text.replace(\" \", \"_\").lower()\n",
    "    return clean_text\n"
   ]
  },
  {
   "cell_type": "code",
   "execution_count": 12,
   "id": "d206ce7b",
   "metadata": {},
   "outputs": [],
   "source": [
    "try:\n",
    "    df = pd.read_excel(file_path)\n",
    "except FileNotFoundError:\n",
    "    print(\"File not found. Check the file path and name.\")"
   ]
  },
  {
   "cell_type": "code",
   "execution_count": 14,
   "id": "0bd9558e",
   "metadata": {},
   "outputs": [],
   "source": [
    "links_list = df['Link pro QRCode']"
   ]
  },
  {
   "cell_type": "code",
   "execution_count": 15,
   "id": "40261d12",
   "metadata": {},
   "outputs": [],
   "source": [
    "qr = qrcode.QRCode(version=1)"
   ]
  },
  {
   "cell_type": "code",
   "execution_count": 16,
   "id": "d1230d82",
   "metadata": {},
   "outputs": [],
   "source": [
    "for index, link in enumerate(links_list):\n",
    "    qr.add_data(link)\n",
    "    img = qrcode.make(link)\n",
    "    filetmp = f\"QRCode_{index+1}-{clean_text(df['Nome do QRCode'][index])}.png\"\n",
    "    img.save(f\"{realpath}/QRCodes/{filetmp}\")"
   ]
  }
 ],
 "metadata": {
  "kernelspec": {
   "display_name": "Python 3 (ipykernel)",
   "language": "python",
   "name": "python3"
  },
  "language_info": {
   "codemirror_mode": {
    "name": "ipython",
    "version": 3
   },
   "file_extension": ".py",
   "mimetype": "text/x-python",
   "name": "python",
   "nbconvert_exporter": "python",
   "pygments_lexer": "ipython3",
   "version": "3.10.12"
  }
 },
 "nbformat": 4,
 "nbformat_minor": 5
}
