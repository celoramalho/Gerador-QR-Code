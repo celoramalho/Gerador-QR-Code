{
 "cells": [
  {
   "cell_type": "code",
   "execution_count": 1,
   "id": "f75c801b",
   "metadata": {},
   "outputs": [],
   "source": [
    "import qrcode\n",
    "import qrcode.image.svg\n",
    "import pandas as pd\n",
    "import numpy as np\n",
    "import re\n",
    "import unicodedata\n",
    "import os\n",
    "from pathlib import Path\n",
    "import json\n",
    "from pprint import pprint\n",
    "from datetime import date, time, datetime"
   ]
  },
  {
   "cell_type": "code",
   "execution_count": 2,
   "id": "620401e6",
   "metadata": {},
   "outputs": [],
   "source": [
    "def __get_real_path():\n",
    "    realpath = os.getcwd()\n",
    "    return realpath"
   ]
  },
  {
   "cell_type": "code",
   "execution_count": 3,
   "id": "98259280",
   "metadata": {},
   "outputs": [],
   "source": [
    "def __clean_text(text):\n",
    "    # Normalize text to decompose accented characters\n",
    "    nfkd_form = unicodedata.normalize('NFKD', text)\n",
    "    # Remove accents by keeping only ASCII characters\n",
    "    text_without_accents = \"\".join([c for c in nfkd_form if not unicodedata.combining(c)])\n",
    "    # Remove special characters, keeping only letters, numbers, and spaces\n",
    "    clean_text = re.sub(r'[^a-zA-Z0-9\\s]', '', text_without_accents)\n",
    "    # Replace spaces with underscores and convert to lowercase\n",
    "    clean_text = clean_text.replace(\" \", \"_\").lower()\n",
    "    return clean_text\n"
   ]
  },
  {
   "cell_type": "code",
   "execution_count": 4,
   "id": "d5708d08",
   "metadata": {},
   "outputs": [],
   "source": [
    "def __create_folder(folder_name):\n",
    "    try:\n",
    "        os.makedirs(f'QRCodes/{folder_name}', exist_ok=True)\n",
    "        print(f\"Folder '{folder_name}' created successfully!\")\n",
    "    except Exception as e:\n",
    "        print(f\"An error occurred: {e}\")"
   ]
  },
  {
   "cell_type": "code",
   "execution_count": 5,
   "id": "40261d12",
   "metadata": {},
   "outputs": [],
   "source": [
    "def excel_to_df(file_path):\n",
    "    try:\n",
    "        df = pd.read_excel(file_path)\n",
    "        return df\n",
    "    except FileNotFoundError:\n",
    "        print(\"File not found. Check the file path and name.\")"
   ]
  },
  {
   "cell_type": "code",
   "execution_count": 6,
   "id": "d1230d82",
   "metadata": {},
   "outputs": [],
   "source": [
    "def generate_qr_code_excel_file():\n",
    "    qr = qrcode.QRCode(version=1)\n",
    "    realpath = __get_real_path()\n",
    "\n",
    "    excel_filepath = f\"{realpath}/Planilha/Planilha_QR_Code.xlsx\"\n",
    "    #check if already have a line with the same serialnumber\n",
    "\n",
    "    df = excel_to_df(excel_filepath)\n",
    "\n",
    "    # Get the current date and time\n",
    "    current_datetime = datetime.now()\n",
    "\n",
    "    # Format it to be suitable for a folder name\n",
    "    folder_name = current_datetime.strftime(\"%Y-%m-%d_%H-%M-%S\")\n",
    "    __create_folder(folder_name)\n",
    "\n",
    "\n",
    "    links_list = df['Link pro QRCode']\n",
    "    for index, link in enumerate(links_list):\n",
    "        qr.add_data(link)\n",
    "        img = qrcode.make(link)\n",
    "        filetmp = f\"QRCode_{index+1}-{__clean_text(df['Nome do QRCode'][index])}.png\"\n",
    "        img.save(f\"{realpath}/QRCodes/{folder_name}/{filetmp}\")"
   ]
  },
  {
   "cell_type": "code",
   "execution_count": 7,
   "id": "48993248",
   "metadata": {},
   "outputs": [
    {
     "name": "stdout",
     "output_type": "stream",
     "text": [
      "Folder '2025-01-29_16-05-58' created successfully!\n"
     ]
    }
   ],
   "source": [
    "generate_qr_code_excel_file()"
   ]
  }
 ],
 "metadata": {
  "kernelspec": {
   "display_name": "venv-anubis",
   "language": "python",
   "name": "python3"
  },
  "language_info": {
   "codemirror_mode": {
    "name": "ipython",
    "version": 3
   },
   "file_extension": ".py",
   "mimetype": "text/x-python",
   "name": "python",
   "nbconvert_exporter": "python",
   "pygments_lexer": "ipython3",
   "version": "3.12.3"
  }
 },
 "nbformat": 4,
 "nbformat_minor": 5
}
