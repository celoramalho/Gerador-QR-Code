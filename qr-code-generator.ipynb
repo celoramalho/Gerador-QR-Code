{
 "cells": [
  {
   "cell_type": "code",
   "execution_count": 1,
   "id": "f75c801b",
   "metadata": {},
   "outputs": [],
   "source": [
    "import qrcode\n",
    "import qrcode.image.svg\n",
    "import pandas as pd\n",
    "import numpy as np\n",
    "import re\n",
    "import unicodedata\n",
    "import os\n",
    "from pathlib import Path\n",
    "import json\n",
    "from pprint import pprint\n",
    "from datetime import date, time, datetime"
   ]
  },
  {
   "cell_type": "code",
   "execution_count": 2,
   "id": "620401e6",
   "metadata": {},
   "outputs": [],
   "source": [
    "def __get_real_path():\n",
    "    realpath = os.getcwd()\n",
    "    return realpath"
   ]
  },
  {
   "cell_type": "code",
   "execution_count": 3,
   "id": "98259280",
   "metadata": {},
   "outputs": [],
   "source": [
    "def __clean_text(text):\n",
    "    # Normalize text to decompose accented characters\n",
    "    nfkd_form = unicodedata.normalize('NFKD', text)\n",
    "    # Remove accents by keeping only ASCII characters\n",
    "    text_without_accents = \"\".join([c for c in nfkd_form if not unicodedata.combining(c)])\n",
    "    # Remove special characters, keeping only letters, numbers, and spaces\n",
    "    clean_text = re.sub(r'[^a-zA-Z0-9\\s]', '', text_without_accents)\n",
    "    # Replace spaces with underscores and convert to lowercase\n",
    "    clean_text = clean_text.replace(\" \", \"_\").lower()\n",
    "    return clean_text\n"
   ]
  },
  {
   "cell_type": "code",
   "execution_count": null,
   "id": "d5708d08",
   "metadata": {},
   "outputs": [],
   "source": [
    "def __create_folder(folder_name):\n",
    "    try:\n",
    "        os.makedirs(folder_name, exist_ok=True)\n",
    "        print(f\"Folder '{folder_name}' created successfully!\")\n",
    "    except Exception as e:\n",
    "        print(f\"An error occurred: {e}\")"
   ]
  },
  {
   "cell_type": "code",
   "execution_count": 4,
   "id": "40261d12",
   "metadata": {},
   "outputs": [],
   "source": [
    "def excel_to_df(file_path):\n",
    "    try:\n",
    "        df = pd.read_excel(file_path)\n",
    "        return df\n",
    "    except FileNotFoundError:\n",
    "        print(\"File not found. Check the file path and name.\")"
   ]
  },
  {
   "cell_type": "code",
   "execution_count": 5,
   "id": "d1230d82",
   "metadata": {},
   "outputs": [],
   "source": [
    "def generate_qr_code_excel_file():\n",
    "    qr = qrcode.QRCode(version=1)\n",
    "    realpath = __get_real_path()\n",
    "\n",
    "    excel_filepath = f\"{realpath}/Planilha/Planilha_QR_Code.xlsx\"\n",
    "    #check if already have a line with the same serialnumber\n",
    "\n",
    "    df = excel_to_df(excel_filepath)\n",
    "\n",
    "    # Get the current date and time\n",
    "    current_datetime = datetime.now()\n",
    "\n",
    "    # Format it to be suitable for a folder name\n",
    "    folder_name = current_datetime.strftime(\"%Y-%m-%d_%H-%M-%S\")\n",
    "    __create_folder(folder_name)\n",
    "\n",
    "\n",
    "    links_list = df['Link pro QRCode']\n",
    "    for index, link in enumerate(links_list):\n",
    "        qr.add_data(link)\n",
    "        img = qrcode.make(link)\n",
    "        filetmp = f\"QRCode_{index+1}-{__clean_text(df['Nome do QRCode'][index])}.png\"\n",
    "        img.save(f\"{realpath}/QRCodes/{folder_name}/{filetmp}\")"
   ]
  },
  {
   "cell_type": "code",
   "execution_count": 6,
   "id": "48993248",
   "metadata": {},
   "outputs": [
    {
     "ename": "FileNotFoundError",
     "evalue": "[Errno 2] No such file or directory: '/home/griffo/tech_mage/Gerador-QR-Code/QRCodes/2024-11-08_16-51-41/QRCode_1-gleiser_sathler_de_souza_penna.png'",
     "output_type": "error",
     "traceback": [
      "\u001b[0;31m---------------------------------------------------------------------------\u001b[0m",
      "\u001b[0;31mFileNotFoundError\u001b[0m                         Traceback (most recent call last)",
      "Cell \u001b[0;32mIn[6], line 1\u001b[0m\n\u001b[0;32m----> 1\u001b[0m \u001b[43mgenerate_qr_code_excel_file\u001b[49m\u001b[43m(\u001b[49m\u001b[43m)\u001b[49m\n",
      "Cell \u001b[0;32mIn[5], line 22\u001b[0m, in \u001b[0;36mgenerate_qr_code_excel_file\u001b[0;34m()\u001b[0m\n\u001b[1;32m     20\u001b[0m img \u001b[38;5;241m=\u001b[39m qrcode\u001b[38;5;241m.\u001b[39mmake(link)\n\u001b[1;32m     21\u001b[0m filetmp \u001b[38;5;241m=\u001b[39m \u001b[38;5;124mf\u001b[39m\u001b[38;5;124m\"\u001b[39m\u001b[38;5;124mQRCode_\u001b[39m\u001b[38;5;132;01m{\u001b[39;00mindex\u001b[38;5;241m+\u001b[39m\u001b[38;5;241m1\u001b[39m\u001b[38;5;132;01m}\u001b[39;00m\u001b[38;5;124m-\u001b[39m\u001b[38;5;132;01m{\u001b[39;00m__clean_text(df[\u001b[38;5;124m'\u001b[39m\u001b[38;5;124mNome do QRCode\u001b[39m\u001b[38;5;124m'\u001b[39m][index])\u001b[38;5;132;01m}\u001b[39;00m\u001b[38;5;124m.png\u001b[39m\u001b[38;5;124m\"\u001b[39m\n\u001b[0;32m---> 22\u001b[0m \u001b[43mimg\u001b[49m\u001b[38;5;241;43m.\u001b[39;49m\u001b[43msave\u001b[49m\u001b[43m(\u001b[49m\u001b[38;5;124;43mf\u001b[39;49m\u001b[38;5;124;43m\"\u001b[39;49m\u001b[38;5;132;43;01m{\u001b[39;49;00m\u001b[43mrealpath\u001b[49m\u001b[38;5;132;43;01m}\u001b[39;49;00m\u001b[38;5;124;43m/QRCodes/\u001b[39;49m\u001b[38;5;132;43;01m{\u001b[39;49;00m\u001b[43mfolder_name\u001b[49m\u001b[38;5;132;43;01m}\u001b[39;49;00m\u001b[38;5;124;43m/\u001b[39;49m\u001b[38;5;132;43;01m{\u001b[39;49;00m\u001b[43mfiletmp\u001b[49m\u001b[38;5;132;43;01m}\u001b[39;49;00m\u001b[38;5;124;43m\"\u001b[39;49m\u001b[43m)\u001b[49m\n",
      "File \u001b[0;32m~/tech_mage/env-python/environment-default/lib/python3.10/site-packages/qrcode/image/pil.py:54\u001b[0m, in \u001b[0;36mPilImage.save\u001b[0;34m(self, stream, format, **kwargs)\u001b[0m\n\u001b[1;32m     52\u001b[0m \u001b[38;5;28;01mif\u001b[39;00m \u001b[38;5;28mformat\u001b[39m \u001b[38;5;129;01mis\u001b[39;00m \u001b[38;5;28;01mNone\u001b[39;00m:\n\u001b[1;32m     53\u001b[0m     \u001b[38;5;28mformat\u001b[39m \u001b[38;5;241m=\u001b[39m kind\n\u001b[0;32m---> 54\u001b[0m \u001b[38;5;28;43mself\u001b[39;49m\u001b[38;5;241;43m.\u001b[39;49m\u001b[43m_img\u001b[49m\u001b[38;5;241;43m.\u001b[39;49m\u001b[43msave\u001b[49m\u001b[43m(\u001b[49m\u001b[43mstream\u001b[49m\u001b[43m,\u001b[49m\u001b[43m \u001b[49m\u001b[38;5;28;43mformat\u001b[39;49m\u001b[38;5;241;43m=\u001b[39;49m\u001b[38;5;28;43mformat\u001b[39;49m\u001b[43m,\u001b[49m\u001b[43m \u001b[49m\u001b[38;5;241;43m*\u001b[39;49m\u001b[38;5;241;43m*\u001b[39;49m\u001b[43mkwargs\u001b[49m\u001b[43m)\u001b[49m\n",
      "File \u001b[0;32m~/tech_mage/env-python/environment-default/lib/python3.10/site-packages/PIL/Image.py:2600\u001b[0m, in \u001b[0;36mImage.save\u001b[0;34m(self, fp, format, **params)\u001b[0m\n\u001b[1;32m   2598\u001b[0m         fp \u001b[38;5;241m=\u001b[39m builtins\u001b[38;5;241m.\u001b[39mopen(filename, \u001b[38;5;124m\"\u001b[39m\u001b[38;5;124mr+b\u001b[39m\u001b[38;5;124m\"\u001b[39m)\n\u001b[1;32m   2599\u001b[0m     \u001b[38;5;28;01melse\u001b[39;00m:\n\u001b[0;32m-> 2600\u001b[0m         fp \u001b[38;5;241m=\u001b[39m \u001b[43mbuiltins\u001b[49m\u001b[38;5;241;43m.\u001b[39;49m\u001b[43mopen\u001b[49m\u001b[43m(\u001b[49m\u001b[43mfilename\u001b[49m\u001b[43m,\u001b[49m\u001b[43m \u001b[49m\u001b[38;5;124;43m\"\u001b[39;49m\u001b[38;5;124;43mw+b\u001b[39;49m\u001b[38;5;124;43m\"\u001b[39;49m\u001b[43m)\u001b[49m\n\u001b[1;32m   2601\u001b[0m \u001b[38;5;28;01melse\u001b[39;00m:\n\u001b[1;32m   2602\u001b[0m     fp \u001b[38;5;241m=\u001b[39m cast(IO[\u001b[38;5;28mbytes\u001b[39m], fp)\n",
      "\u001b[0;31mFileNotFoundError\u001b[0m: [Errno 2] No such file or directory: '/home/griffo/tech_mage/Gerador-QR-Code/QRCodes/2024-11-08_16-51-41/QRCode_1-gleiser_sathler_de_souza_penna.png'"
     ]
    }
   ],
   "source": [
    "generate_qr_code_excel_file()"
   ]
  }
 ],
 "metadata": {
  "kernelspec": {
   "display_name": "Python 3 (ipykernel)",
   "language": "python",
   "name": "python3"
  },
  "language_info": {
   "codemirror_mode": {
    "name": "ipython",
    "version": 3
   },
   "file_extension": ".py",
   "mimetype": "text/x-python",
   "name": "python",
   "nbconvert_exporter": "python",
   "pygments_lexer": "ipython3",
   "version": "3.10.12"
  }
 },
 "nbformat": 4,
 "nbformat_minor": 5
}
