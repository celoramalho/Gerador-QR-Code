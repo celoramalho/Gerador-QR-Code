{
 "cells": [
  {
   "cell_type": "code",
   "execution_count": 79,
   "id": "f75c801b",
   "metadata": {},
   "outputs": [],
   "source": [
    "import qrcode\n",
    "import qrcode.image.svg"
   ]
  },
  {
   "cell_type": "code",
   "execution_count": 80,
   "id": "cc6cdd05",
   "metadata": {},
   "outputs": [],
   "source": [
    "import pandas as pd\n",
    "import numpy as np\n",
    "import os\n",
    "from pathlib import Path\n",
    "import json\n",
    "from pprint import pprint\n",
    "from datetime import date, time, datetime\n",
    "from datetime import datetime\n",
    "from openpyxl import Workbook"
   ]
  },
  {
   "cell_type": "code",
   "execution_count": 81,
   "id": "620401e6",
   "metadata": {},
   "outputs": [],
   "source": [
    "FILENAME = '/mnt/c/Users/MarceloRamalhodeRodr/Hy Brazil Energia S.A/T.I Hy Brazil - Documentos/Projetos/QRCodesCOR/qrcodes.xlsm'\n",
    "#check if already have a line with the same serialnumber"
   ]
  },
  {
   "cell_type": "code",
   "execution_count": 82,
   "id": "d206ce7b",
   "metadata": {},
   "outputs": [],
   "source": [
    "XL = pd.ExcelFile(FILENAME)"
   ]
  },
  {
   "cell_type": "code",
   "execution_count": 86,
   "id": "75cabda3",
   "metadata": {},
   "outputs": [],
   "source": [
    "XL = XL.parse(XL.sheet_names[0], header=1)"
   ]
  },
  {
   "cell_type": "code",
   "execution_count": 87,
   "id": "0bd9558e",
   "metadata": {},
   "outputs": [],
   "source": [
    "listalinks = XL['Coluna2']"
   ]
  },
  {
   "cell_type": "code",
   "execution_count": 109,
   "id": "40261d12",
   "metadata": {},
   "outputs": [],
   "source": [
    "qr = qrcode.QRCode(version=1)\n",
    "i=0"
   ]
  },
  {
   "cell_type": "code",
   "execution_count": 110,
   "id": "d1230d82",
   "metadata": {},
   "outputs": [],
   "source": [
    "for link in listalinks:\n",
    "    qr.add_data(link)\n",
    "    img = qrcode.make(link)\n",
    "    i+=1\n",
    "    filetmp = \"QRCode{}.png\".format(i)\n",
    "    img.save('/mnt/c/Users/MarceloRamalhodeRodr/Hy Brazil Energia S.A/T.I Hy Brazil - Documentos/Projetos/QRCodesCOR/QRCode{}'.format(filetmp))"
   ]
  },
  {
   "cell_type": "code",
   "execution_count": 30,
   "id": "a17b18b1",
   "metadata": {},
   "outputs": [],
   "source": [
    "qr.add_data(\"https://hybrazil.sharepoint.com/:f:/s/COR/Ens-cRgxrclApyIL8QgqK5AB1uVxTPZTPG0ZCOgvH3l9Sw\")"
   ]
  },
  {
   "cell_type": "code",
   "execution_count": 39,
   "id": "a4b7e96c",
   "metadata": {},
   "outputs": [],
   "source": [
    "img2 = qrcode.make(\"https://hybrazil.sharepoint.com/:f:/s/COR/Ens-cRgxrclApyIL8QgqK5AB1uVxTPZTPG0ZCOgvH3l9Sw\")"
   ]
  },
  {
   "cell_type": "code",
   "execution_count": 40,
   "id": "f6cd3bb3",
   "metadata": {},
   "outputs": [
    {
     "name": "stdout",
     "output_type": "stream",
     "text": [
      "<class 'qrcode.image.pil.PilImage'>\n"
     ]
    }
   ],
   "source": [
    "print(type(img2))"
   ]
  },
  {
   "cell_type": "code",
   "execution_count": 41,
   "id": "372940f0",
   "metadata": {},
   "outputs": [],
   "source": [
    "img2.save('/mnt/c/Users/MarceloRamalhodeRodr/Hy Brazil Energia S.A/T.I Hy Brazil - Documentos/teste.png')"
   ]
  },
  {
   "cell_type": "code",
   "execution_count": 35,
   "id": "04a50a96",
   "metadata": {},
   "outputs": [],
   "source": [
    "img = qrcode.make('https://hybrazil.sharepoint.com/:f:/s/COR/Ens-cRgxrclApyIL8QgqK5AB1uVxTPZTPG0ZCOgvH3l9Sw', image_factory=qrcode.image.svg.SvgImage)\n"
   ]
  },
  {
   "cell_type": "code",
   "execution_count": 38,
   "id": "2a91d95f",
   "metadata": {},
   "outputs": [],
   "source": [
    "with open('qr.svg', 'wb') as qr:\n",
    "    img.save('/mnt/c/Users/MarceloRamalhodeRodr/Hy Brazil Energia S.A/T.I Hy Brazil - Documentos/teste2.png')"
   ]
  }
 ],
 "metadata": {
  "kernelspec": {
   "display_name": "Python 3 (ipykernel)",
   "language": "python",
   "name": "python3"
  },
  "language_info": {
   "codemirror_mode": {
    "name": "ipython",
    "version": 3
   },
   "file_extension": ".py",
   "mimetype": "text/x-python",
   "name": "python",
   "nbconvert_exporter": "python",
   "pygments_lexer": "ipython3",
   "version": "3.10.6"
  }
 },
 "nbformat": 4,
 "nbformat_minor": 5
}
